{
 "cells": [
  {
   "cell_type": "code",
   "execution_count": 1,
   "metadata": {},
   "outputs": [],
   "source": [
    "import os\n",
    "from urllib.request import urlretrieve\n",
    "import numpy as np"
   ]
  },
  {
   "cell_type": "markdown",
   "metadata": {},
   "source": [
    "Prepare the document"
   ]
  },
  {
   "cell_type": "code",
   "execution_count": 2,
   "metadata": {},
   "outputs": [],
   "source": [
    "# Download documents from U.S. Census Bureau to local directory.\n",
    "os.makedirs(\"us_census\", exist_ok=True)\n",
    "files = [\n",
    "    \"https://www.census.gov/content/dam/Census/library/publications/2022/demo/p70-178.pdf\",\n",
    "    \"https://www.census.gov/content/dam/Census/library/publications/2023/acs/acsbr-017.pdf\",\n",
    "    \"https://www.census.gov/content/dam/Census/library/publications/2023/acs/acsbr-016.pdf\",\n",
    "    \"https://www.census.gov/content/dam/Census/library/publications/2023/acs/acsbr-015.pdf\",\n",
    "]\n",
    "for url in files:\n",
    "    file_path = os.path.join(\"us_census\", url.rpartition(\"/\")[2])\n",
    "    urlretrieve(url, file_path)"
   ]
  },
  {
   "cell_type": "markdown",
   "metadata": {},
   "source": [
    "Split the document into chunks"
   ]
  },
  {
   "cell_type": "code",
   "execution_count": 3,
   "metadata": {},
   "outputs": [
    {
     "name": "stderr",
     "output_type": "stream",
     "text": [
      "/Users/herujokoutomo/Code/experiment/RAG/.venv/lib/python3.9/site-packages/urllib3/__init__.py:35: NotOpenSSLWarning: urllib3 v2 only supports OpenSSL 1.1.1+, currently the 'ssl' module is compiled with 'LibreSSL 2.8.3'. See: https://github.com/urllib3/urllib3/issues/3020\n",
      "  warnings.warn(\n"
     ]
    },
    {
     "data": {
      "text/plain": [
       "Document(metadata={'source': 'us_census/acsbr-015.pdf', 'page': 0}, page_content='Health Insurance Coverage Status and Type \\nby Geography: 2021 and 2022\\nAmerican Community Survey Briefs\\nACSBR-015Issued September 2023Douglas Conway and Breauna Branch\\nINTRODUCTION\\nDemographic shifts as well as economic and govern-\\nment policy changes can affect people’s access to health coverage. For example, between 2021 and 2022, the labor market continued to improve, which may have affected private coverage in the United States \\nduring that time.\\n1 Public policy changes included \\nthe renewal of the Public Health Emergency, which \\nallowed Medicaid enrollees to remain covered under the Continuous Enrollment Provision.\\n2 The American \\nRescue Plan (ARP) enhanced Marketplace premium subsidies for those with incomes above 400 percent of the poverty level as well as for unemployed people.\\n3')"
      ]
     },
     "execution_count": 3,
     "metadata": {},
     "output_type": "execute_result"
    }
   ],
   "source": [
    "from langchain_community.document_loaders import PyPDFLoader\n",
    "from langchain_community.document_loaders import PyPDFDirectoryLoader\n",
    "from langchain.text_splitter import RecursiveCharacterTextSplitter\n",
    "\n",
    "loader = PyPDFDirectoryLoader(\"./us_census/\")\n",
    "docs_before_split = loader.load()\n",
    "text_splitter =  RecursiveCharacterTextSplitter(chunk_size=1000, chunk_overlap=100)\n",
    "docs_after_split = text_splitter.split_documents(docs_before_split)\n",
    "\n",
    "docs_after_split[0]"
   ]
  },
  {
   "cell_type": "markdown",
   "metadata": {},
   "source": [
    "Using the localAI server we can leverage their embedding model to generate embeddings for our documents."
   ]
  },
  {
   "cell_type": "code",
   "execution_count": 4,
   "metadata": {},
   "outputs": [],
   "source": [
    "import requests\n",
    "\n",
    "LOCAL_AI_URL = \"http://100.64.227.106:8080\"\n",
    "EMBEDDING_MODEL = \"text-embedding-ada-002\"\n",
    "\n",
    "def get_embedding(text: str):\n",
    "    \n",
    "    # make http POST request to the embedding endpoint\n",
    "    response = requests.post(\n",
    "        f\"{LOCAL_AI_URL}/embeddings\",\n",
    "        json={\"input\": text, \"model\": EMBEDDING_MODEL},\n",
    "    )\n",
    "    # check for HTTP codes other than 200\n",
    "    response.raise_for_status()\n",
    "    # extract embeddings from response\n",
    "    try:\n",
    "        return response.json()[\"data\"][0][\"embedding\"]\n",
    "    except:\n",
    "        print(response.json())\n",
    "        return []\n",
    "\n",
    "# get a little sample of our embeddings\n",
    "data_embedding = get_embedding(docs_after_split[0].page_content)"
   ]
  },
  {
   "cell_type": "code",
   "execution_count": 5,
   "metadata": {},
   "outputs": [
    {
     "name": "stderr",
     "output_type": "stream",
     "text": [
      "/Users/herujokoutomo/Code/experiment/RAG/.venv/lib/python3.9/site-packages/langchain_core/_api/deprecation.py:141: LangChainDeprecationWarning: The class `OpenAIEmbeddings` was deprecated in LangChain 0.0.9 and will be removed in 0.3.0. An updated version of the class exists in the langchain-openai package and should be used instead. To use it run `pip install -U langchain-openai` and import as `from langchain_openai import OpenAIEmbeddings`.\n",
      "  warn_deprecated(\n"
     ]
    }
   ],
   "source": [
    "import os\n",
    "from langchain.embeddings import OpenAIEmbeddings\n",
    "from langchain.llms import OpenAI\n",
    "from langchain.vectorstores import Chroma\n",
    "\n",
    "\n",
    "os.environ[\"OPENAI_API_BASE\"] = LOCAL_AI_URL\n",
    "os.environ[\"OPENAI_API_KEY\"] = \"OPENAI_API_KEY\"\n",
    "\n",
    "CHROMA_DIR = os.path.join(\"./chroma\")\n",
    "os.makedirs(CHROMA_DIR, exist_ok=True)\n",
    "\n",
    "embedding = OpenAIEmbeddings(model=\"text-embedding-ada-002\")\n",
    "vectordb = Chroma.from_documents(documents=docs_after_split, embedding=embedding, persist_directory=CHROMA_DIR)"
   ]
  },
  {
   "cell_type": "code",
   "execution_count": 6,
   "metadata": {},
   "outputs": [
    {
     "name": "stderr",
     "output_type": "stream",
     "text": [
      "/Users/herujokoutomo/Code/experiment/RAG/.venv/lib/python3.9/site-packages/langchain_core/_api/deprecation.py:141: LangChainDeprecationWarning: The class `Chroma` was deprecated in LangChain 0.2.9 and will be removed in 0.4. An updated version of the class exists in the langchain-chroma package and should be used instead. To use it run `pip install -U langchain-chroma` and import as `from langchain_chroma import Chroma`.\n",
      "  warn_deprecated(\n",
      "/Users/herujokoutomo/Code/experiment/RAG/.venv/lib/python3.9/site-packages/langchain_community/llms/openai.py:254: UserWarning: You are trying to use a chat model. This way of initializing it is no longer supported. Instead, please use: `from langchain_community.chat_models import ChatOpenAI`\n",
      "  warnings.warn(\n",
      "/Users/herujokoutomo/Code/experiment/RAG/.venv/lib/python3.9/site-packages/langchain_community/llms/openai.py:1075: UserWarning: You are trying to use a chat model. This way of initializing it is no longer supported. Instead, please use: `from langchain_community.chat_models import ChatOpenAI`\n",
      "  warnings.warn(\n",
      "/Users/herujokoutomo/Code/experiment/RAG/.venv/lib/python3.9/site-packages/langchain/chains/retrieval_qa/base.py:314: UserWarning: `VectorDBQA` is deprecated - please use `from langchain.chains import RetrievalQA`\n",
      "  warnings.warn(\n",
      "/Users/herujokoutomo/Code/experiment/RAG/.venv/lib/python3.9/site-packages/langchain_core/_api/deprecation.py:141: LangChainDeprecationWarning: The method `Chain.run` was deprecated in langchain 0.1.0 and will be removed in 0.3.0. Use invoke instead.\n",
      "  warn_deprecated(\n"
     ]
    },
    {
     "data": {
      "text/markdown": [
       "The survey is about examining changes in public coverage and uninsured rates in the United States from 2021 to 2022, focusing on the differences between Medicaid expansion and non-expansion states. The data is based on the American Community Survey (ACS) samples from January 2021 to December 2021 and January 2022 to December 2022. The survey aims to analyze the impact of Medicaid expansion on public coverage rates and the uninsured rate in different states."
      ],
      "text/plain": [
       "<IPython.core.display.Markdown object>"
      ]
     },
     "metadata": {},
     "output_type": "display_data"
    }
   ],
   "source": [
    "from langchain.chains import VectorDBQA\n",
    "\n",
    "vectordb = Chroma(persist_directory=CHROMA_DIR, embedding_function=embedding)\n",
    "llm = OpenAI(temperature=0, model_name=\"gpt-4\", openai_api_base=LOCAL_AI_URL)\n",
    "qa = VectorDBQA.from_chain_type(llm, chain_type=\"stuff\", vectorstore=vectordb)\n",
    "\n",
    "query = \"What is the survey about?\"\n",
    "\n",
    "from IPython.display import Markdown\n",
    "# display as markdown\n",
    "display(Markdown(qa.run(query)))\n"
   ]
  },
  {
   "cell_type": "markdown",
   "metadata": {},
   "source": [
    "Compare the result using FAISS approach"
   ]
  },
  {
   "cell_type": "code",
   "execution_count": 7,
   "metadata": {},
   "outputs": [],
   "source": [
    "from langchain.vectorstores import FAISS\n",
    "from langchain.text_splitter import CharacterTextSplitter\n",
    "\n",
    "FAISS_DIR = os.path.join(\"./faiss_index\")\n",
    "os.makedirs(FAISS_DIR, exist_ok=True)\n",
    "\n",
    "text_splitter = CharacterTextSplitter(chunk_size=1000, chunk_overlap=30, separator=\"\\n\")\n",
    "docs = text_splitter.split_documents(documents=docs_before_split)\n",
    "\n",
    "# Create vectors\n",
    "vectorstore = FAISS.from_documents(docs, embedding)\n",
    "    # Persist the vectors locally on disk\n",
    "vectorstore.save_local(FAISS_DIR)"
   ]
  },
  {
   "cell_type": "code",
   "execution_count": 8,
   "metadata": {},
   "outputs": [
    {
     "data": {
      "text/markdown": [
       "This paper examines health insurance coverage status and types in the United States during 2021 and 2022, using the American Community Survey (ACS) 1-year estimates. It focuses on the differences in coverage status and select subtypes (Medicaid, direct purchase, and employer-based) for the 50 states, the District of Columbia, and the 25 most populous metropolitan areas. The paper highlights the impact of national policies, such as the renewal of the Public Health Emergency and the American Rescue Plan (ARP), as well as state-level policies on health insurance coverage. Key takeaways and findings include:\n",
       "\n",
       "1. The labor market's improvement between 2021 and 2022 may have affected private coverage in the United States.\n",
       "2. Public policy changes, such as the renewal of the Public Health Emergency and the ARP, enhanced Marketplace premium subsidies.\n",
       "3. Missouri and Oklahoma expanded Medicaid eligibility under the Patient Protection and Affordable Care Act (ACA) in 2022, leaving only twelve states without expanded Medicaid eligibility.\n",
       "4. Kentucky, Maine, and New Mexico created state-based health insurance marketplaces in November 2021.\n",
       "5. State and federal policies designed to increase public coverage may affect the supply and demand for private coverage, leading to various changes in coverage rates."
      ],
      "text/plain": [
       "<IPython.core.display.Markdown object>"
      ]
     },
     "metadata": {},
     "output_type": "display_data"
    }
   ],
   "source": [
    "from langchain.chains import RetrievalQA\n",
    "# Load from local storage\n",
    "persisted_vectorstore = FAISS.load_local(FAISS_DIR, embedding, allow_dangerous_deserialization=True)\n",
    "\n",
    " # Use RetrievalQA chain for orchestration\n",
    "qa = RetrievalQA.from_chain_type(llm=llm, chain_type=\"stuff\", retriever=persisted_vectorstore.as_retriever())\n",
    "\n",
    "query2 = \"give me a brief summary of the paper, and note key take aways and key findings\"\n",
    "result = qa.run(query2)\n",
    "\n",
    "from IPython.display import Markdown\n",
    "# display as markdown\n",
    "display(Markdown(result))"
   ]
  },
  {
   "cell_type": "markdown",
   "metadata": {},
   "source": [
    "Store the embedding in pgvector for later use"
   ]
  },
  {
   "cell_type": "code",
   "execution_count": 9,
   "metadata": {},
   "outputs": [
    {
     "name": "stderr",
     "output_type": "stream",
     "text": [
      "/Users/herujokoutomo/Code/experiment/RAG/.venv/lib/python3.9/site-packages/langchain_community/vectorstores/pgvector.py:328: LangChainPendingDeprecationWarning: Please use JSONB instead of JSON for metadata. This change will allow for more efficient querying that involves filtering based on metadata.Please note that filtering operators have been changed when using JSOB metadata to be prefixed with a $ sign to avoid name collisions with columns. If you're using an existing database, you will need to create adb migration for your metadata column to be JSONB and update your queries to use the new operators. \n",
      "  warn_deprecated(\n"
     ]
    }
   ],
   "source": [
    "from langchain_core.documents import Document\n",
    "from langchain.vectorstores.pgvector import PGVector\n",
    "from langchain.vectorstores.pgvector import DistanceStrategy\n",
    "\n",
    "# See docker command above to launch a postgres instance with pgvector enabled.\n",
    "PG_USER = \"pguser\"\n",
    "PG_PASS = \"pgpass\"\n",
    "PG_HOST = \"localhost\"\n",
    "PG_PORT = \"5432\"\n",
    "PG_DB_NAME = \"langchain\"\n",
    "CONNECTION_STRING = f\"postgresql+psycopg://{PG_USER}:{PG_PASS}@{PG_HOST}:{PG_PORT}/{PG_DB_NAME}\"  # Uses psycopg3!\n",
    "collection_name = \"rag_us_census\"\n",
    "\n",
    "db = PGVector.from_documents(\n",
    "    documents= docs_after_split,\n",
    "    embedding = embedding,\n",
    "    collection_name= collection_name,\n",
    "    distance_strategy = DistanceStrategy.COSINE,\n",
    "    connection_string=CONNECTION_STRING)"
   ]
  },
  {
   "cell_type": "code",
   "execution_count": 10,
   "metadata": {},
   "outputs": [
    {
     "name": "stdout",
     "output_type": "stream",
     "text": [
      "Content snippet:3\n",
      "In addition to national policies, individual states and the District of Columbia can affect health insurance coverage by making Marketplace or Medicaid more accessible and affordable. This variation may be more or less pronounced across states. Missouri and \n",
      "Oklahoma expanded Medicaid eligibility under the \n",
      "Patient Protection and Affordable Care Act (ACA) in 2022, leaving only twelve states without expanded Medicaid eligibility, primarily in the South and parts \n",
      "1 The Bureau of Labor Statistic\n"
     ]
    }
   ],
   "source": [
    "from langchain.schema import Document\n",
    "\n",
    "#Fetch the k=3 most similar documents\n",
    "docs =  db.similarity_search(query, k=3)\n",
    "\n",
    "doc = docs[0]\n",
    "# Access the document's content\n",
    "doc_content = doc.page_content\n",
    "# Access the document's metadata object\n",
    "doc_metadata = doc.metadata\n",
    "\n",
    "print(\"Content snippet:\" + doc_content[:500])\n",
    "    "
   ]
  },
  {
   "cell_type": "code",
   "execution_count": 11,
   "metadata": {},
   "outputs": [
    {
     "name": "stdout",
     "output_type": "stream",
     "text": [
      "\n",
      "\n",
      "\u001b[1m> Entering new RetrievalQA chain...\u001b[0m\n",
      "\n",
      "\u001b[1m> Finished chain.\u001b[0m\n"
     ]
    },
    {
     "data": {
      "text/markdown": [
       "The survey is about the changes in health insurance coverage status and type in the United States from 2021 to 2022, focusing on how demographic shifts, economic factors, and government policies have affected access to health coverage during that time period."
      ],
      "text/plain": [
       "<IPython.core.display.Markdown object>"
      ]
     },
     "metadata": {},
     "output_type": "display_data"
    },
    {
     "name": "stdout",
     "output_type": "stream",
     "text": [
      "\n",
      "\n",
      "\u001b[1m> Entering new RetrievalQA chain...\u001b[0m\n",
      "\n",
      "\u001b[1m> Finished chain.\u001b[0m\n"
     ]
    },
    {
     "data": {
      "text/markdown": [
       "This paper examines the impact of demographic shifts, economic changes, and government policies on health insurance coverage in the United States between 2021 and 2022. Key takeaways and findings include:\n",
       "\n",
       "1. National policies, as well as individual state policies, can affect health insurance coverage through measures like expanding Medicaid eligibility and creating state-based health insurance marketplaces.\n",
       "2. The labor market's improvement between 2021 and 2022 may have influenced private coverage in the United States during that time.\n",
       "3. Public policy changes, such as the renewal of the Public Health Emergency and the American Rescue Plan (ARP) enhancing Marketplace premium subsidies, have also affected health insurance coverage.\n",
       "4. There is a variety of changes in coverage rates due to these factors, and further research and analysis are needed to understand the full impact of these changes on the U.S. healthcare system."
      ],
      "text/plain": [
       "<IPython.core.display.Markdown object>"
      ]
     },
     "metadata": {},
     "output_type": "display_data"
    }
   ],
   "source": [
    "from langchain.chains import RetrievalQA\n",
    "from IPython.display import Markdown, display\n",
    "\n",
    "retriever = db.as_retriever(\n",
    "    search_kwargs={\"k\": 3}\n",
    ")\n",
    "\n",
    "qa_stuff = RetrievalQA.from_chain_type(\n",
    "    llm=llm, \n",
    "    chain_type=\"stuff\", \n",
    "    retriever=retriever,\n",
    "    verbose=True,\n",
    ")\n",
    "\n",
    "response = qa_stuff.run(query)\n",
    "display(Markdown(response))\n",
    "response = qa_stuff.run(query2)\n",
    "display(Markdown(response))"
   ]
  }
 ],
 "metadata": {
  "kernelspec": {
   "display_name": ".venv",
   "language": "python",
   "name": "python3"
  },
  "language_info": {
   "codemirror_mode": {
    "name": "ipython",
    "version": 3
   },
   "file_extension": ".py",
   "mimetype": "text/x-python",
   "name": "python",
   "nbconvert_exporter": "python",
   "pygments_lexer": "ipython3",
   "version": "3.9.6"
  }
 },
 "nbformat": 4,
 "nbformat_minor": 2
}
