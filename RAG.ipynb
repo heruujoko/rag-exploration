{
 "cells": [
  {
   "cell_type": "code",
   "execution_count": 1,
   "metadata": {},
   "outputs": [],
   "source": [
    "import os\n",
    "from urllib.request import urlretrieve\n",
    "import numpy as np"
   ]
  },
  {
   "cell_type": "markdown",
   "metadata": {},
   "source": [
    "Prepare the document"
   ]
  },
  {
   "cell_type": "code",
   "execution_count": 2,
   "metadata": {},
   "outputs": [],
   "source": [
    "# Download documents from U.S. Census Bureau to local directory.\n",
    "os.makedirs(\"us_census\", exist_ok=True)\n",
    "files = [\n",
    "    \"https://www.census.gov/content/dam/Census/library/publications/2022/demo/p70-178.pdf\",\n",
    "    \"https://www.census.gov/content/dam/Census/library/publications/2023/acs/acsbr-017.pdf\",\n",
    "    \"https://www.census.gov/content/dam/Census/library/publications/2023/acs/acsbr-016.pdf\",\n",
    "    \"https://www.census.gov/content/dam/Census/library/publications/2023/acs/acsbr-015.pdf\",\n",
    "]\n",
    "for url in files:\n",
    "    file_path = os.path.join(\"us_census\", url.rpartition(\"/\")[2])\n",
    "    urlretrieve(url, file_path)"
   ]
  },
  {
   "cell_type": "markdown",
   "metadata": {},
   "source": [
    "Split the document into chunks"
   ]
  },
  {
   "cell_type": "code",
   "execution_count": 3,
   "metadata": {},
   "outputs": [
    {
     "name": "stderr",
     "output_type": "stream",
     "text": [
      "/Users/herujokoutomo/Code/experiment/RAG/.venv/lib/python3.9/site-packages/urllib3/__init__.py:35: NotOpenSSLWarning: urllib3 v2 only supports OpenSSL 1.1.1+, currently the 'ssl' module is compiled with 'LibreSSL 2.8.3'. See: https://github.com/urllib3/urllib3/issues/3020\n",
      "  warnings.warn(\n"
     ]
    },
    {
     "data": {
      "text/plain": [
       "Document(metadata={'source': 'us_census/acsbr-015.pdf', 'page': 0}, page_content='Health Insurance Coverage Status and Type \\nby Geography: 2021 and 2022\\nAmerican Community Survey Briefs\\nACSBR-015Issued September 2023Douglas Conway and Breauna Branch\\nINTRODUCTION\\nDemographic shifts as well as economic and govern-\\nment policy changes can affect people’s access to health coverage. For example, between 2021 and 2022, the labor market continued to improve, which may have affected private coverage in the United States \\nduring that time.\\n1 Public policy changes included \\nthe renewal of the Public Health Emergency, which \\nallowed Medicaid enrollees to remain covered under the Continuous Enrollment Provision.\\n2 The American \\nRescue Plan (ARP) enhanced Marketplace premium subsidies for those with incomes above 400 percent of the poverty level as well as for unemployed people.\\n3')"
      ]
     },
     "execution_count": 3,
     "metadata": {},
     "output_type": "execute_result"
    }
   ],
   "source": [
    "from langchain_community.document_loaders import PyPDFLoader\n",
    "from langchain_community.document_loaders import PyPDFDirectoryLoader\n",
    "from langchain.text_splitter import RecursiveCharacterTextSplitter\n",
    "\n",
    "loader = PyPDFDirectoryLoader(\"./us_census/\")\n",
    "docs_before_split = loader.load()\n",
    "text_splitter =  RecursiveCharacterTextSplitter(chunk_size=1000, chunk_overlap=100)\n",
    "docs_after_split = text_splitter.split_documents(docs_before_split)\n",
    "\n",
    "docs_after_split[0]"
   ]
  },
  {
   "cell_type": "markdown",
   "metadata": {},
   "source": [
    "Using the localAI server we can leverage their embedding model to generate embeddings for our documents."
   ]
  },
  {
   "cell_type": "code",
   "execution_count": 4,
   "metadata": {},
   "outputs": [],
   "source": [
    "import requests\n",
    "\n",
    "LOCAL_AI_URL = \"http://100.64.227.106:8080\"\n",
    "EMBEDDING_MODEL = \"text-embedding-ada-002\"\n",
    "\n",
    "def get_embedding(text: str):\n",
    "    \n",
    "    # make http POST request to the embedding endpoint\n",
    "    response = requests.post(\n",
    "        f\"{LOCAL_AI_URL}/embeddings\",\n",
    "        json={\"input\": text, \"model\": EMBEDDING_MODEL},\n",
    "    )\n",
    "    # check for HTTP codes other than 200\n",
    "    response.raise_for_status()\n",
    "    # extract embeddings from response\n",
    "    try:\n",
    "        return response.json()[\"data\"][0][\"embedding\"]\n",
    "    except:\n",
    "        print(response.json())\n",
    "        return []\n",
    "\n",
    "# get a little sample of our embeddings\n",
    "data_embedding = get_embedding(docs_after_split[0].page_content)"
   ]
  },
  {
   "cell_type": "code",
   "execution_count": 5,
   "metadata": {},
   "outputs": [
    {
     "name": "stderr",
     "output_type": "stream",
     "text": [
      "/Users/herujokoutomo/Code/experiment/RAG/.venv/lib/python3.9/site-packages/langchain_core/_api/deprecation.py:141: LangChainDeprecationWarning: The class `OpenAIEmbeddings` was deprecated in LangChain 0.0.9 and will be removed in 0.3.0. An updated version of the class exists in the langchain-openai package and should be used instead. To use it run `pip install -U langchain-openai` and import as `from langchain_openai import OpenAIEmbeddings`.\n",
      "  warn_deprecated(\n"
     ]
    }
   ],
   "source": [
    "import os\n",
    "from langchain.embeddings import OpenAIEmbeddings\n",
    "from langchain.llms import OpenAI\n",
    "from langchain.vectorstores import Chroma\n",
    "\n",
    "\n",
    "os.environ[\"OPENAI_API_BASE\"] = LOCAL_AI_URL\n",
    "os.environ[\"OPENAI_API_KEY\"] = \"OPENAI_API_KEY\"\n",
    "\n",
    "CHROMA_DIR = os.path.join(\"./chroma\")\n",
    "os.makedirs(CHROMA_DIR, exist_ok=True)\n",
    "\n",
    "embedding = OpenAIEmbeddings(model=\"text-embedding-ada-002\")\n",
    "vectordb = Chroma.from_documents(documents=docs_after_split, embedding=embedding, persist_directory=CHROMA_DIR)"
   ]
  },
  {
   "cell_type": "code",
   "execution_count": 21,
   "metadata": {},
   "outputs": [
    {
     "name": "stderr",
     "output_type": "stream",
     "text": [
      "/Users/herujokoutomo/Code/experiment/RAG/.venv/lib/python3.9/site-packages/langchain_community/llms/openai.py:254: UserWarning: You are trying to use a chat model. This way of initializing it is no longer supported. Instead, please use: `from langchain_community.chat_models import ChatOpenAI`\n",
      "  warnings.warn(\n",
      "/Users/herujokoutomo/Code/experiment/RAG/.venv/lib/python3.9/site-packages/langchain_community/llms/openai.py:1075: UserWarning: You are trying to use a chat model. This way of initializing it is no longer supported. Instead, please use: `from langchain_community.chat_models import ChatOpenAI`\n",
      "  warnings.warn(\n",
      "/Users/herujokoutomo/Code/experiment/RAG/.venv/lib/python3.9/site-packages/langchain/chains/retrieval_qa/base.py:314: UserWarning: `VectorDBQA` is deprecated - please use `from langchain.chains import RetrievalQA`\n",
      "  warnings.warn(\n"
     ]
    },
    {
     "data": {
      "text/markdown": [
       "The survey is about examining changes in public coverage and uninsured rates in the United States from 2021 to 2022, focusing on the differences between Medicaid expansion and non-expansion states. The data is based on the American Community Survey (ACS) samples from January 2021 to December 2021 and January 2022 to December 2022. The survey aims to analyze the impact of Medicaid expansion on public coverage rates and the uninsured rate in different states."
      ],
      "text/plain": [
       "<IPython.core.display.Markdown object>"
      ]
     },
     "metadata": {},
     "output_type": "display_data"
    }
   ],
   "source": [
    "from langchain.chains import VectorDBQA\n",
    "\n",
    "vectordb = Chroma(persist_directory=CHROMA_DIR, embedding_function=embedding)\n",
    "llm = OpenAI(temperature=0, model_name=\"gpt-4\", openai_api_base=LOCAL_AI_URL)\n",
    "qa = VectorDBQA.from_chain_type(llm, chain_type=\"stuff\", vectorstore=vectordb)\n",
    "\n",
    "query = \"What is the survey about?\"\n",
    "\n",
    "from IPython.display import Markdown\n",
    "# display as markdown\n",
    "display(Markdown(qa.run(query)))\n"
   ]
  },
  {
   "cell_type": "markdown",
   "metadata": {},
   "source": [
    "Compare the result using FAISS approach"
   ]
  },
  {
   "cell_type": "code",
   "execution_count": 22,
   "metadata": {},
   "outputs": [],
   "source": [
    "from langchain.vectorstores import FAISS\n",
    "from langchain.text_splitter import CharacterTextSplitter\n",
    "\n",
    "FAISS_DIR = os.path.join(\"./faiss_index\")\n",
    "os.makedirs(FAISS_DIR, exist_ok=True)\n",
    "\n",
    "text_splitter = CharacterTextSplitter(chunk_size=1000, chunk_overlap=30, separator=\"\\n\")\n",
    "docs = text_splitter.split_documents(documents=docs_before_split)\n",
    "\n",
    "# Create vectors\n",
    "vectorstore = FAISS.from_documents(docs, embedding)\n",
    "    # Persist the vectors locally on disk\n",
    "vectorstore.save_local(FAISS_DIR)"
   ]
  },
  {
   "cell_type": "code",
   "execution_count": 24,
   "metadata": {},
   "outputs": [
    {
     "data": {
      "text/markdown": [
       "The survey is about examining health insurance coverage status and select subtypes (Medicaid, direct purchase, and employer-based) for the 50 states, the District of Columbia, and the 25 most populous metropolitan areas in the United States. It uses the 2021 and 2022 American Community Survey (ACS) 1-year estimates to analyze differences in health insurance coverage and year-to-year changes (2021 to 2022) across these geographies. The survey also considers the impact of demographic shifts, economic changes, and government policy changes on people's access to health coverage."
      ],
      "text/plain": [
       "<IPython.core.display.Markdown object>"
      ]
     },
     "metadata": {},
     "output_type": "display_data"
    }
   ],
   "source": [
    "from langchain.chains import RetrievalQA\n",
    "# Load from local storage\n",
    "persisted_vectorstore = FAISS.load_local(FAISS_DIR, embedding, allow_dangerous_deserialization=True)\n",
    "\n",
    " # Use RetrievalQA chain for orchestration\n",
    "qa = RetrievalQA.from_chain_type(llm=llm, chain_type=\"stuff\", retriever=persisted_vectorstore.as_retriever())\n",
    "result = qa.run(query)\n",
    "\n",
    "from IPython.display import Markdown\n",
    "# display as markdown\n",
    "display(Markdown(result))"
   ]
  }
 ],
 "metadata": {
  "kernelspec": {
   "display_name": ".venv",
   "language": "python",
   "name": "python3"
  },
  "language_info": {
   "codemirror_mode": {
    "name": "ipython",
    "version": 3
   },
   "file_extension": ".py",
   "mimetype": "text/x-python",
   "name": "python",
   "nbconvert_exporter": "python",
   "pygments_lexer": "ipython3",
   "version": "3.9.6"
  }
 },
 "nbformat": 4,
 "nbformat_minor": 2
}
